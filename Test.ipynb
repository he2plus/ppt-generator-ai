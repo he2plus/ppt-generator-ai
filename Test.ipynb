{
  "cells": [
    {
      "attachments": {},
      "cell_type": "markdown",
      "metadata": {
        "id": "L_3Uw68UxMyr"
      },
      "source": [
        "#Libraires and installations required"
      ]
    },
    {
      "cell_type": "code",
      "execution_count": null,
      "metadata": {
        "id": "kVPMaJrcZTAq"
      },
      "outputs": [],
      "source": [
        "!pip install OpenAI"
      ]
    },
    {
      "cell_type": "code",
      "execution_count": 2,
      "metadata": {
        "id": "9LNL2dQlZbbJ"
      },
      "outputs": [],
      "source": [
        "import openai\n",
        "\n",
        "openai.api_key = secret.OPENAI_API"
      ]
    },
    {
      "cell_type": "code",
      "execution_count": 3,
      "metadata": {
        "id": "psC6dXh9jA4J"
      },
      "outputs": [],
      "source": [
        "import requests"
      ]
    },
    {
      "attachments": {},
      "cell_type": "markdown",
      "metadata": {
        "id": "jArLfeSrjNpm"
      },
      "source": [
        "#Text Generation"
      ]
    },
    {
      "cell_type": "code",
      "execution_count": 4,
      "metadata": {
        "colab": {
          "base_uri": "https://localhost:8080/"
        },
        "id": "oNhqynhaZb1J",
        "outputId": "a182fecf-07fc-46ae-dc59-afae6043f81f"
      },
      "outputs": [
        {
          "name": "stdout",
          "output_type": "stream",
          "text": [
            "\n",
            "\n",
            "Slide 1: \n",
            "Heading: Introduction to Lahore\n",
            "Content: \n",
            "• Capital of Punjab\n",
            "• Second largest city in Pakistan\n",
            "• Historical city\n",
            "\n",
            "Slide 2: \n",
            "Heading: Culture of Lahore\n",
            "Content: \n",
            "• Rich cultural heritage\n",
            "• Food, music, art, literature\n",
            "• Home to many festivals\n",
            "\n",
            "Slide 3: \n",
            "Heading: Tourist Attractions in Lahore\n",
            "Content: \n",
            "• Badshahi Mosque\n",
            "• Lahore Fort\n",
            "• Shalimar Gardens\n",
            "• Walled City of Lahore\n",
            "\n",
            "Slide 4: \n",
            "Heading: Shopping in Lahore\n",
            "Content: \n",
            "• Anarkali Bazaar\n",
            "• Liberty Market\n",
            "• Hafeez Centre\n",
            "• Mall of Lahore\n",
            "\n",
            "Slide 5: \n",
            "Heading: Education in Lahore\n",
            "Content: \n",
            "• University of the Punjab\n",
            "• University of Engineering and Technology\n",
            "• Lahore College for Women University\n",
            "• National College of Arts\n"
          ]
        }
      ],
      "source": [
        "prompt_text = \"Generate 5 slides on the topic 'Lahore'. Each slide should have a heading and content. Keep content in key points\"\n",
        "\n",
        "completion = openai.Completion.create(\n",
        "  model=\"text-davinci-003\",\n",
        "  prompt = prompt_text,\n",
        "  max_tokens=1000,\n",
        "  temperature=0\n",
        ")\n",
        "\n",
        "text = completion.choices[0].text\n",
        "print(text)"
      ]
    },
    {
      "attachments": {},
      "cell_type": "markdown",
      "metadata": {
        "id": "O_cgu0mIjX-m"
      },
      "source": [
        "#Image Generarion"
      ]
    },
    {
      "cell_type": "code",
      "execution_count": 5,
      "metadata": {
        "id": "JsyDQ67QjEcC"
      },
      "outputs": [],
      "source": [
        "def download_image(url, file_path):\n",
        "    response = requests.get(url)\n",
        "    response.raise_for_status()  # Raise an exception if the request was unsuccessful\n",
        "\n",
        "    with open(file_path, 'wb') as file:\n",
        "        file.write(response.content)"
      ]
    },
    {
      "cell_type": "code",
      "execution_count": 6,
      "metadata": {
        "id": "q0taWaDFh1Nl"
      },
      "outputs": [],
      "source": [
        "prompt_i = \"A warrior galopping across the field with axe in his hand\"\n",
        "\n",
        "response = openai.Image.create(\n",
        "  prompt = prompt_i,\n",
        "  n = 1,\n",
        "  size = \"512x512\"\n",
        ")\n",
        "\n",
        "image_url = response['data'][0]['url']\n",
        "file_path = './' + prompt_i.lower().replace(' ', '_') + '.png'\n",
        "download_image(image_url, file_path)"
      ]
    }
  ],
  "metadata": {
    "colab": {
      "collapsed_sections": [
        "L_3Uw68UxMyr",
        "jArLfeSrjNpm",
        "O_cgu0mIjX-m"
      ],
      "gpuType": "T4",
      "provenance": []
    },
    "kernelspec": {
      "display_name": "Python 3",
      "name": "python3"
    },
    "language_info": {
      "name": "python"
    }
  },
  "nbformat": 4,
  "nbformat_minor": 0
}
